{
 "cells": [
  {
   "cell_type": "code",
   "execution_count": 1,
   "metadata": {},
   "outputs": [],
   "source": [
    "import pyowm\n",
    "from datetime import datetime, timedelta"
   ]
  },
  {
   "cell_type": "code",
   "execution_count": 2,
   "metadata": {},
   "outputs": [],
   "source": [
    "owm = pyowm.OWM('__ur_own_API__')\n",
    "COUNTRY = 'US'"
   ]
  },
  {
   "cell_type": "code",
   "execution_count": 3,
   "metadata": {},
   "outputs": [
    {
     "ename": "SyntaxError",
     "evalue": "invalid syntax (<ipython-input-3-fd8ae1ef4cc6>, line 6)",
     "output_type": "error",
     "traceback": [
      "\u001b[1;36m  File \u001b[1;32m\"<ipython-input-3-fd8ae1ef4cc6>\"\u001b[1;36m, line \u001b[1;32m6\u001b[0m\n\u001b[1;33m    valid_location =\u001b[0m\n\u001b[1;37m                     ^\u001b[0m\n\u001b[1;31mSyntaxError\u001b[0m\u001b[1;31m:\u001b[0m invalid syntax\n"
     ]
    }
   ],
   "source": [
    "valid_location = False\n",
    "while valid_location == False:\n",
    "    try:\n",
    "        location = input(\"Which city or town are you visiting? \")\n",
    "        forecast = owm.three_hours_forecast(location + ',' + COUNTRY)\n",
    "        valid_location = \n",
    "    except:\n",
    "        print(f\"Please enter the correct location. Eg: San Francisco, Chicago\")"
   ]
  },
  {
   "cell_type": "code",
   "execution_count": null,
   "metadata": {},
   "outputs": [],
   "source": [
    "forecast_date = datetime.now()"
   ]
  },
  {
   "cell_type": "code",
   "execution_count": null,
   "metadata": {},
   "outputs": [],
   "source": [
    "arrive = int(input(\"How many days are there (0 - 5) before you arrive? \"))\n",
    "forecast_date = datetime.now() + timedelta(days = arrive )\n",
    "weather = forecast.get_weather_at(forecast_date)"
   ]
  },
  {
   "cell_type": "code",
   "execution_count": null,
   "metadata": {},
   "outputs": [],
   "source": [
    "description = weather.get_detailed_status()\n",
    "clouds = weather.get_clouds()\n",
    "temperature = weather.get_temperature()['temp']\n",
    "wind = weather.get_wind()['speed']\n",
    "try:\n",
    "    rain = weather.get_rain()['all']\n",
    "except KeyError:\n",
    "    rain = 0"
   ]
  },
  {
   "cell_type": "code",
   "execution_count": null,
   "metadata": {},
   "outputs": [],
   "source": [
    "print(description)\n",
    "print(\"\")\n",
    "print(clouds)\n",
    "print(\"\")\n",
    "print(temperature)\n",
    "print(\"\")\n",
    "print(wind)\n",
    "print(\"\")\n",
    "print(rain)\n"
   ]
  },
  {
   "cell_type": "code",
   "execution_count": null,
   "metadata": {},
   "outputs": [],
   "source": []
  }
 ],
 "metadata": {
  "kernelspec": {
   "display_name": "Python 3",
   "language": "python",
   "name": "python3"
  },
  "language_info": {
   "codemirror_mode": {
    "name": "ipython",
    "version": 3
   },
   "file_extension": ".py",
   "mimetype": "text/x-python",
   "name": "python",
   "nbconvert_exporter": "python",
   "pygments_lexer": "ipython3",
   "version": "3.7.7"
  }
 },
 "nbformat": 4,
 "nbformat_minor": 4
}
